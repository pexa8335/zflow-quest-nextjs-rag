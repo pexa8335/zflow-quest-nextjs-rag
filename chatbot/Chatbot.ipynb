{
 "cells": [
  {
   "cell_type": "markdown",
   "id": "06351163",
   "metadata": {},
   "source": [
    "# Package Importing"
   ]
  },
  {
   "cell_type": "code",
   "execution_count": 1,
   "id": "b6132322",
   "metadata": {},
   "outputs": [
    {
     "name": "stderr",
     "output_type": "stream",
     "text": [
      "c:\\Users\\PC\\miniconda3\\envs\\chatbot\\Lib\\site-packages\\tqdm\\auto.py:21: TqdmWarning: IProgress not found. Please update jupyter and ipywidgets. See https://ipywidgets.readthedocs.io/en/stable/user_install.html\n",
      "  from .autonotebook import tqdm as notebook_tqdm\n"
     ]
    }
   ],
   "source": [
    "from Chatbot_Langchain import HueChatbot\n",
    "\n",
    "chatbot = HueChatbot()  "
   ]
  },
  {
   "cell_type": "markdown",
   "id": "57dc5265",
   "metadata": {},
   "source": [
    "# Start"
   ]
  },
  {
   "cell_type": "code",
   "execution_count": 2,
   "id": "e5f50d4b",
   "metadata": {},
   "outputs": [
    {
     "name": "stdout",
     "output_type": "stream",
     "text": [
      "🏛️ Chào mừng đến với Chatbot Văn hóa Huế! (Phiên bản LangChain)\n",
      "💬 Hỏi tôi bất cứ điều gì về văn hóa, lịch sử, ẩm thực Huế...\n",
      "⛔ Gõ 'quit' hoặc 'thoát' để kết thúc\n",
      "\n",
      "\n",
      "==================================================\n",
      "👤 Bạn: mày là ai\n",
      "==================================================\n",
      "🤖 Hướng dẫn viên Huế (sử dụng LangChain) đang suy nghĩ...\n"
     ]
    },
    {
     "name": "stderr",
     "output_type": "stream",
     "text": [
      "c:\\Users\\PC\\miniconda3\\envs\\chatbot\\Lib\\site-packages\\langchain_community\\utilities\\duckduckgo_search.py:63: RuntimeWarning: This package (`duckduckgo_search`) has been renamed to `ddgs`! Use `pip install ddgs` instead.\n",
      "  with DDGS() as ddgs:\n"
     ]
    },
    {
     "name": "stdout",
     "output_type": "stream",
     "text": [
      "\n",
      "🎭 Hướng dẫn viên Huế: Chào bạn, tôi là hướng dẫn viên du lịch chuyên nghiệp, chuyên về văn hóa Huế. Tôi rất vui được đồng hành cùng bạn khám phá những nét đẹp độc đáo, lịch sử hào hùng, ẩm thực tinh tế và các điểm đến nổi tiếng của mảnh đất cố đô này.\n",
      "\n",
      "Bạn có câu hỏi nào về Huế không? Hãy cứ hỏi nhé!\n",
      "\n",
      "👋 Tạm biệt! Chúc bạn có chuyến du lịch Huế thú vị!\n"
     ]
    }
   ],
   "source": [
    "chatbot.start()  # Start the chatbot session"
   ]
  }
 ],
 "metadata": {
  "kernelspec": {
   "display_name": "chatbot",
   "language": "python",
   "name": "python3"
  },
  "language_info": {
   "codemirror_mode": {
    "name": "ipython",
    "version": 3
   },
   "file_extension": ".py",
   "mimetype": "text/x-python",
   "name": "python",
   "nbconvert_exporter": "python",
   "pygments_lexer": "ipython3",
   "version": "3.12.11"
  }
 },
 "nbformat": 4,
 "nbformat_minor": 5
}
