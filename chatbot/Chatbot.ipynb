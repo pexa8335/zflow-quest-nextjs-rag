{
 "cells": [
  {
   "cell_type": "markdown",
   "id": "06351163",
   "metadata": {},
   "source": [
    "# Package Importing"
   ]
  },
  {
   "cell_type": "code",
   "execution_count": 4,
   "id": "b6132322",
   "metadata": {},
   "outputs": [],
   "source": [
    "from Chatbot import HueChatbot\n",
    "\n",
    "chatbot = HueChatbot()  "
   ]
  },
  {
   "cell_type": "markdown",
   "id": "57dc5265",
   "metadata": {},
   "source": [
    "# Start"
   ]
  },
  {
   "cell_type": "code",
   "execution_count": 5,
   "id": "e5f50d4b",
   "metadata": {},
   "outputs": [
    {
     "name": "stdout",
     "output_type": "stream",
     "text": [
      "🏛️ Chào mừng đến với Chatbot Văn hóa Huế!\n",
      "💬 Hỏi tôi bất cứ điều gì về văn hóa, lịch sử, ẩm thực Huế...\n",
      "⛔ Gõ 'quit' hoặc 'thoát' để kết thúc\n",
      "\n",
      "\n",
      "==================================================\n",
      "👤 Bạn: đặc sản\n",
      "==================================================\n",
      "🔍 Tìm kiếm...\n",
      "   ⚡ Search: 1.8s\n",
      "📄 Xử lý 5 trang...\n",
      "✅ Trích xuất thành công 1/5\n",
      "✅ Trích xuất thành công 2/5\n",
      "✅ Trích xuất thành công 3/5\n",
      "✅ Trích xuất thành công 4/5\n",
      "   ⚡ Extract: 1.2s\n",
      "📝 Thu thập 6224 ký tự\n",
      "🤖 Tạo câu trả lời...\n",
      "   ⚡ AI: 4.7s\n",
      "🚀 TỔNG: 7.8s\n",
      "\n",
      "🎭 Hướng dẫn viên Huế: Chào bạn, khi nhắc đến Huế, không thể không nhắc đến nền ẩm thực vô cùng phong phú và tinh tế, được đúc kết qua hàng thế kỷ. Ẩm thực Huế là sự hòa quyện giữa nét cầu kỳ, sang trọng của ẩm thực cung đình và sự dân dã, đậm đà của phong cách đường phố.\n",
      "\n",
      "Huế có rất nhiều đặc sản hấp dẫn mà bạn nhất định nên thử:\n",
      "\n",
      "**Các món ăn nổi tiếng tại chỗ:**\n",
      "*   **Cơm Hến:** Một món ăn dân dã nhưng vô cùng đặc trưng của Huế, được làm từ cơm trắng, hến xào, tóp mỡ và ăn kèm với nhiều loại rau sống đặc biệt.\n",
      "*   **Bún bò Huế:** Món bún nổi tiếng với nước dùng đậm đà, thơm lừng, sợi bún to và các loại thịt, chả đặc trưng.\n",
      "*   **Bánh bèo:** Món bánh nhỏ xinh, mềm mịn, thường được ăn kèm với tôm cháy, tóp mỡ và nước mắm chua ngọt.\n",
      "*   **Bánh ram ít:** Sự kết hợp độc đáo giữa phần bánh ít dẻo mềm bên trên và phần ram giòn rụm bên dưới, tạo nên hương vị cuốn hút.\n",
      "*   **Vả trộn:** Một món ăn thanh đạm, thơm ngon, sử dụng quả vả đặc trưng của vùng đất cố đô.\n",
      "\n",
      "**Các đặc sản có thể mua về làm quà:**\n",
      "*   **Kẹo mè xửng:** Món kẹo truyền thống với sự hòa quyện vị thơm, béo, bùi của mạch nha, đường, đậu phộng và mè. Rất tiện lợi để mang về làm quà.\n",
      "*   **Chả Huế:** Được làm từ thịt heo xay nhuyễn, kết hợp gia vị đặc trưng và gói trong lá chuối, có độ mềm dai vừa phải.\n",
      "*   **Nem, tré:** Món ăn làm từ thịt heo và da heo, kết hợp gia vị, lên men tự nhiên và gói bằng lá chuối hoặc lá ổi, mang hương vị đặc trưng.\n",
      "\n",
      "Ẩm thực Huế không chỉ ngon mà còn rất chú trọng đến cách trình bày, thể hiện sự tinh tế và cầu kỳ trong từng món ăn. Đây thực sự là một phần không thể thiếu khi khám phá văn hóa cố đô!\n",
      "\n",
      "==================================================\n",
      "👤 Bạn: áo dài\n",
      "==================================================\n",
      "🔍 Tìm kiếm...\n",
      "   ⚡ Search: 0.9s\n",
      "📄 Xử lý 5 trang...\n",
      "✅ Trích xuất thành công 1/5\n",
      "✅ Trích xuất thành công 2/5\n",
      "✅ Trích xuất thành công 3/5\n",
      "   ⚡ Extract: 9.3s\n",
      "📝 Thu thập 6015 ký tự\n",
      "🤖 Tạo câu trả lời...\n",
      "   ⚡ AI: 3.9s\n",
      "🚀 TỔNG: 14.1s\n",
      "\n",
      "🎭 Hướng dẫn viên Huế: Chào bạn, khi nhắc đến Huế, không thể không nhắc đến tà áo dài, một phần không thể thiếu của bản sắc văn hóa và vẻ đẹp riêng có của con người nơi đây. Huế được xem là chiếc nôi đã sản sinh và nuôi dưỡng chiếc áo dài Việt Nam.\n",
      "\n",
      "Áo dài Huế mang những nét duyên dáng rất riêng, hình thành từ chính tâm hồn và nét thẩm mỹ của người Huế. Đặc trưng của áo dài Huế là:\n",
      "*   **Kiểu dáng:** Không dài chấm gót cũng không xẻ tà quá cao.\n",
      "*   **Cổ áo:** Cao vừa phải.\n",
      "*   **Đường eo:** Được chiết ôm lấy những đường cong thanh mảnh, tinh tế của người phụ nữ nhưng lại không quá bó sát, tạo nên sự kín đáo, thùy mị.\n",
      "\n",
      "Về lịch sử, một dấu mốc quan trọng là vào năm 1744, sau khi chúa Nguyễn Phúc Khoát lên ngôi ở Phú Xuân, đã ban hành nhiều chính sách và đề cập đến việc sửa đổi y phục, tạo ra một diện mạo mới cho vương quốc Đàng Trong. Sang triều Nguyễn (1802-1945), triều đình muốn thống nhất y phục hai miền nên đã ban bố lệnh, tạo cơ hội cho phụ nữ Huế nói riêng và phụ nữ Việt Nam nói chung mặc áo dài thường xuyên, dần đi vào nếp sống hằng ngày.\n",
      "\n",
      "Ngày nay, áo dài là trang phục không thể thiếu của các mệ, các mẹ và chị em phụ nữ Huế trong mỗi ngày vui, dịp lễ, Tết hay chốn công sở. Bạn sẽ thường xuyên bắt gặp hình ảnh các cô, các chị thướt tha, duyên dáng trong tà áo dài trên khắp nẻo đường xứ Huế. Áo dài không chỉ tôn lên nét đẹp của người phụ nữ mà còn rất hợp với khung cảnh cổ kính, yên bình, nhẹ nhàng, lãng mạn của xứ kinh kỳ. Trong các kỳ Festival Huế, lễ hội áo dài cũng là một trong những chương trình chính thức, mang đậm chất Huế.\n",
      "\n",
      "\n",
      "👋 Tạm biệt!\n"
     ]
    }
   ],
   "source": [
    "chatbot.start()  # Start the chatbot session"
   ]
  }
 ],
 "metadata": {
  "kernelspec": {
   "display_name": "vpbank",
   "language": "python",
   "name": "python3"
  },
  "language_info": {
   "codemirror_mode": {
    "name": "ipython",
    "version": 3
   },
   "file_extension": ".py",
   "mimetype": "text/x-python",
   "name": "python",
   "nbconvert_exporter": "python",
   "pygments_lexer": "ipython3",
   "version": "3.12.11"
  }
 },
 "nbformat": 4,
 "nbformat_minor": 5
}
